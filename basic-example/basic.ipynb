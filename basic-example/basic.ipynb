{
 "cells": [
  {
   "cell_type": "markdown",
   "metadata": {},
   "source": [
    "# Modelling withdrawals using raw water or undersaturated brine\n",
    "The following examples show a withdrawal of 1.5 MMbbl from an approximately-10-MMbbl cavern over 15 days, followed by a 105 day rest period. The first section shows how to load and run from an existing DAT-format file. The second shows how to build the same scenario from scratch. Finally, the final section shows how a multi-stage scenario can be constructed.\n",
    "\n",
    "## Setup\n",
    "After installing sansmic, import the ``sansmic`` module. If you need other packages, import them as well. We will also check the version of sansmic."
   ]
  },
  {
   "cell_type": "code",
   "execution_count": null,
   "metadata": {},
   "outputs": [],
   "source": [
    "import sansmic\n",
    "import numpy as np\n",
    "import pandas as pd\n",
    "import plotly, plotly.subplots\n",
    "import plotly.graph_objects as go\n",
    "\n",
    "plotly.offline.init_notebook_mode()\n",
    "pd.options.plotting.backend = \"plotly\"\n",
    "print(\"Sansmic version =\", sansmic.__version__)"
   ]
  },
  {
   "cell_type": "markdown",
   "metadata": {},
   "source": [
    "## Using an existing SANSMIC DAT file\n",
    "\n",
    "If you have an existing file, such as the provided example called ``old.dat``, then you can just read it in to create a new scenario object. You can look at the object in dictionary format to see how it was imported."
   ]
  },
  {
   "cell_type": "code",
   "execution_count": null,
   "metadata": {},
   "outputs": [],
   "source": [
    "# Read in the old .DAT file\n",
    "test1scen = sansmic.io.read_scenario(\"old.dat\")\n",
    "\n",
    "# write a new-style TOML file and print it to check it out\n",
    "sansmic.io.write_scenario(test1scen, \"converted.toml\")\n",
    "with open(\"converted.toml\", \"r\") as fin:\n",
    "    for line in fin.readlines():\n",
    "        print(line.strip())"
   ]
  },
  {
   "cell_type": "markdown",
   "metadata": {},
   "source": [
    "To run the simulation in batch mode, simply create a new simulation and then run it. The results are stored in the ``results`` attribute of the simulation object."
   ]
  },
  {
   "cell_type": "code",
   "execution_count": null,
   "metadata": {},
   "outputs": [],
   "source": [
    "with test1scen.new_simulation(\"converted\") as sim1:\n",
    "    sim1.run_sim()\n",
    "res_orig = sim1.results"
   ]
  },
  {
   "cell_type": "code",
   "execution_count": null,
   "metadata": {},
   "outputs": [],
   "source": [
    "fig = res_orig.df_t_1D.plot(y=\"V_cav\", x=\"t_d\", title=\"Cavern volume - original DAT file\")\n",
    "fig.update_yaxes(tickformat=\",.0f\", title=\"volume / bbl\")\n",
    "fig.update_xaxes(title=\"time / d\")"
   ]
  },
  {
   "cell_type": "code",
   "execution_count": null,
   "metadata": {},
   "outputs": [],
   "source": [
    "test2scen = sansmic.model.Scenario(\n",
    "    title=\"Simple example\",\n",
    "    cavern_height=2000.0,  # z-domain = [0, 1000] ft\n",
    "    floor_depth=4000.0,  # TD = 4000 ft MD\n",
    "    num_cells=200,  # 200 cells (10 ft high)\n",
    ")\n",
    "test2scen.insolubles_ratio = 0.04\n",
    "test2scen.geometry_format = sansmic.model.GeometryFormat.RADIUS_LIST\n",
    "radii = np.array([100] * 201)  # 100 ft radius for the bulk of the cavern\n",
    "radii[0] = 50\n",
    "radii[1] = 90\n",
    "radii[187] = 88\n",
    "radii[188] = 45\n",
    "radii[189] = 15\n",
    "radii[190] = 8\n",
    "radii[191] = 5\n",
    "radii[192:] = 2"
   ]
  },
  {
   "cell_type": "markdown",
   "metadata": {},
   "source": [
    "Having the geometry data in the data structure makes it cumbersome to view it. So let's save the data in a file instead."
   ]
  },
  {
   "cell_type": "code",
   "execution_count": null,
   "metadata": {},
   "outputs": [],
   "source": [
    "# If you wanted to keep the data directly with the configuration,\n",
    "# you would uncomment the line below and comment out the rest.\n",
    "#\n",
    "# test2scen.geometry_data = dict(radii=radii.tolist())\n",
    "\n",
    "with open(\"scratch.geom\", \"w\") as fout:\n",
    "    for v in radii:\n",
    "        fout.write(\"{}\\n\".format(v))\n",
    "test2scen.geometry_data = \"scratch.geom\""
   ]
  },
  {
   "cell_type": "markdown",
   "metadata": {},
   "source": [
    "Now we add a leaching stage. Remeber that when creating a new stage it automatically adds it also."
   ]
  },
  {
   "cell_type": "code",
   "execution_count": null,
   "metadata": {},
   "outputs": [],
   "source": [
    "stage1 = test2scen.new_stage()"
   ]
  },
  {
   "cell_type": "markdown",
   "metadata": {},
   "source": [
    "Now we setup up the simulation stage. Note - in this example we will set up a timestep that is ten times larger (0.1 h) than the old data file so that we can see the differences, if any."
   ]
  },
  {
   "cell_type": "code",
   "execution_count": null,
   "metadata": {},
   "outputs": [],
   "source": [
    "stage1.simulation_mode = \"withdrawal\"\n",
    "stage1.brine_injection_sg = 1.003  # sg\n",
    "stage1.brine_injection_rate = 100000  # bbl/d\n",
    "stage1.brine_injection_depth = 3985  # ft MD\n",
    "stage1.brine_interface_depth = 3963  # ft MD\n",
    "stage1.injection_duration = 360  # h\n",
    "stage1.rest_duration = 2520  # h\n",
    "stage1.inner_tbg_inside_diam = 9.85  # in\n",
    "stage1.inner_tbg_outside_diam = 10.75  # in\n",
    "stage1.outer_csg_inside_diam = 9.85  # in\n",
    "stage1.outer_csg_outside_diam = 10.75  # in\n",
    "stage1.set_cavern_sg = 1.2019  # starting cavern SG\n",
    "stage1.solver_timestep = 0.1  # h\n",
    "stage1.save_frequency = 120  # timesteps (120 ts x 0.1 h/ts = 12 h)"
   ]
  },
  {
   "cell_type": "markdown",
   "metadata": {},
   "source": [
    "Let's save this new scenario in a TOML file, and then read it back in to see how it was formatted."
   ]
  },
  {
   "cell_type": "code",
   "execution_count": null,
   "metadata": {},
   "outputs": [],
   "source": [
    "sansmic.io.write_scenario(test2scen, \"scratch.toml\")\n",
    "with open(\"scratch.toml\", \"r\") as fin:\n",
    "    for line in fin.readlines():\n",
    "        print(line.strip())"
   ]
  },
  {
   "cell_type": "markdown",
   "metadata": {},
   "source": [
    "Now let's run this simulation through a python iterator. This allows us to pull out results at any time we want to request them by using the ``get_current_state`` function."
   ]
  },
  {
   "cell_type": "code",
   "execution_count": null,
   "metadata": {},
   "outputs": [],
   "source": [
    "with test2scen.new_simulation(\"scratch\", verbosity=1) as sim2:\n",
    "    print(\"\"\"         t_d        V_inj        V_cav       sg_ave\"\"\")\n",
    "    print(\"\"\"      ------  -----------  -----------  -----------\"\"\")\n",
    "    for stage, step in sim2.steps:\n",
    "        if step % 2400 == 0:\n",
    "            res = sim2.get_current_state()\n",
    "            print(\n",
    "                res.df_t_1D.loc[:, [\"t_d\", \"V_inj\", \"V_cav\", \"sg_ave\"]].to_string(\n",
    "                    header=False, float_format=\"%12.4g\", index=False\n",
    "                )\n",
    "            )\n",
    "res_new = sim2.results"
   ]
  },
  {
   "cell_type": "code",
   "execution_count": null,
   "metadata": {},
   "outputs": [],
   "source": [
    "fig = res_new.df_t_1D.plot(\n",
    "    y=\"V_cav\", x=\"t_d\", title=\"Cavern volume - simulation created from scratch\"\n",
    ")\n",
    "fig.update_yaxes(tickformat=\",.0f\", title=\"volume / bbl\")\n",
    "fig.update_xaxes(title=\"time / d\")"
   ]
  },
  {
   "cell_type": "code",
   "execution_count": null,
   "metadata": {},
   "outputs": [],
   "source": [
    "# Create some default plot options for each simulation\n",
    "test1_plot_opts = {\n",
    "    \"mode\": \"markers\",\n",
    "    \"name\": \"dt = 0.01 h\",\n",
    "    \"line\": {\"color\": \"blue\"},\n",
    "    \"legendgroup\": 1,\n",
    "    \"marker\": {\"symbol\": \"circle\"},\n",
    "}\n",
    "test2_plot_opts = {\n",
    "    \"mode\": \"markers\",\n",
    "    \"name\": \"dt = 0.1 h\",\n",
    "    \"line\": {\"color\": \"red\", \"dash\": \"dash\"},\n",
    "    \"legendgroup\": 2,\n",
    "    \"marker\": {\"symbol\": \"cross\"},\n",
    "}\n",
    "# Create subplots and add axis labels\n",
    "fig = plotly.subplots.make_subplots(rows=2, cols=1, shared_xaxes=True, vertical_spacing=0.05)\n",
    "fig.update_layout(\n",
    "    title={\"text\": \"Comparing the original and from-scratch simulations\"},\n",
    "    height=800,\n",
    "    # legend={\"orientation\": \"h\"},\n",
    ")\n",
    "fig.update_yaxes(title={\"text\": \"average brine density / sg\"}, row=1)\n",
    "fig.update_yaxes(\n",
    "    title={\"text\": \"cumulative volume of injected water / bbl\"}, tickformat=\",.0f\", row=2\n",
    ")\n",
    "fig.update_xaxes(title={\"text\": \"time / d\"}, range=[0, 20], row=2)\n",
    "\n",
    "# Add the traces\n",
    "fig.add_trace(\n",
    "    go.Scatter(x=res_orig.df_t_1D.t_d, y=res_orig.df_t_1D.sg_ave, **test1_plot_opts),\n",
    "    row=1,\n",
    "    col=1,\n",
    ")\n",
    "fig.add_trace(\n",
    "    go.Scatter(x=res_new.df_t_1D.t_d, y=res_new.df_t_1D.sg_ave, **test2_plot_opts),\n",
    "    row=1,\n",
    "    col=1,\n",
    ")\n",
    "fig.add_trace(\n",
    "    go.Scatter(\n",
    "        x=res_orig.df_t_1D.t_d, y=res_orig.df_t_1D.V_inj, showlegend=False, **test1_plot_opts\n",
    "    ),\n",
    "    row=2,\n",
    "    col=1,\n",
    ")\n",
    "fig.add_trace(\n",
    "    go.Scatter(x=res_new.df_t_1D.t_d, y=res_new.df_t_1D.V_inj, showlegend=False, **test2_plot_opts),\n",
    "    row=2,\n",
    "    col=1,\n",
    ")\n",
    "\n",
    "# Add some annotations\n",
    "fig.add_annotation(row=1, col=1, x=15, y=1.11, text=\"End of injection\")\n",
    "fig.add_annotation(row=2, col=1, x=15, y=1.5e6, text=\"End of injection\")"
   ]
  },
  {
   "cell_type": "markdown",
   "metadata": {},
   "source": [
    "## Running from the command line\n",
    "Jupyter is not a great way to demonstrate how to run sansmic from the command line; the first command we ran can be run from the command line using the following syntax:\n",
    "\n",
    "```bash\n",
    "sansmic old.dat -o cmdlineTest\n",
    "```\n",
    "\n",
    "Try adding \"-v\" or \"-vv\" to the end to see the different levels of output that are provided while the simulation is running.s"
   ]
  },
  {
   "cell_type": "markdown",
   "metadata": {},
   "source": [
    "## Multi-stage model\n",
    "Now, let's try running a model with several leaching stages. Consider the following scenario:\n",
    "\n",
    "A site is delivering 5 MMbbl of oil as ten 500 Mbbl cargos (taking 20 hours to deliver each cargo). There are two days of downtime between deliveries. However,\n",
    "the stream is blended between three different caverns, and our cavern of interest is only responsible for delivering 1.5 MMbbl of that total at a rate of 7500 bbl/h. The starting geometry\n",
    "will be the one we put in \"scratch.geom\", earlier. At the end, we will give the cavern an additional 90 days to equilibrate."
   ]
  },
  {
   "cell_type": "code",
   "execution_count": null,
   "metadata": {},
   "outputs": [],
   "source": [
    "tenCargos = sansmic.model.Scenario(\n",
    "    title=\"Simple example\",\n",
    "    cavern_height=2000.0,  # z-domain = [0, 1000] ft\n",
    "    floor_depth=4000.0,  # TD = 4000 ft MD\n",
    "    num_cells=200,  # 200 cells (10 ft high)\n",
    ")\n",
    "tenCargos.insolubles_ratio = 0.04\n",
    "tenCargos.geometry_format = sansmic.model.GeometryFormat.RADIUS_LIST\n",
    "tenCargos.geometry_data = \"scratch.geom\"\n",
    "\n",
    "# Set some of these as default values for each stage\n",
    "tenCargos.defaults = dict(\n",
    "    inner_tbg_inside_diam=9.85,  # in\n",
    "    inner_tbg_outside_diam=10.75,  # in\n",
    "    outer_csg_inside_diam=9.85,  # in\n",
    "    outer_csg_outside_diam=10.75,  # in\n",
    "    solver_timestep=0.1,  # h\n",
    "    save_frequency=10,  # save every hour\n",
    ")\n",
    "\n",
    "for i in range(10):\n",
    "    stage = tenCargos.new_stage()\n",
    "    stage.title = \"Cargo number {}\".format(i)\n",
    "    stage.simulation_mode = \"withdrawal\"\n",
    "    stage.brine_injection_sg = 1.003  # sg\n",
    "    stage.brine_injection_rate = 7500 * 24  # bbl/h * 24 h/d\n",
    "    stage.brine_injection_depth = 3985\n",
    "    stage.injection_duration = 20  # h\n",
    "    stage.rest_duration = 4 + 24 * 2  # two days downtime plus the four hours\n",
    "    if i == 0:\n",
    "        # We only want to set these on the first stage, after that we want\n",
    "        # to use what was calculated previously (i.e., leave the values as None)\n",
    "        stage.brine_interface_depth = 3963  # ft MD (initial OBI)\n",
    "        stage.set_cavern_sg = 1.2019  # starting cavern sg\n",
    "    if i == 9:\n",
    "        # add extra time to the end\n",
    "        stage.rest_duration = stage.rest_duration + 90 * 24\n",
    "\n",
    "sansmic.io.write_scenario(tenCargos, \"tenCargos.toml\")\n",
    "\n",
    "# run the model\n",
    "with tenCargos.new_simulation(\"tenCargos\", verbosity=0) as sim3:\n",
    "    sim3.run_sim()\n",
    "res_10Stg = sim3.results"
   ]
  },
  {
   "cell_type": "markdown",
   "metadata": {},
   "source": [
    "Now that the scenario has been simulated, let's look at some overview statistics."
   ]
  },
  {
   "cell_type": "code",
   "execution_count": null,
   "metadata": {},
   "outputs": [],
   "source": [
    "fig = plotly.subplots.make_subplots(rows=3, cols=1, shared_xaxes=True, vertical_spacing=0.05)\n",
    "fig.update_layout(\n",
    "    title={\"text\": \"Ten-cargo sansmic simulation\"}, height=800, legend={\"orientation\": \"h\"}\n",
    ")\n",
    "fig.update_yaxes(title=\"volume / bbl\", exponentformat=\"power\", row=1)\n",
    "fig.update_yaxes(title=\"density / sg\", row=2)\n",
    "fig.update_yaxes(title=\"depth / ft MD\", autorange=\"reversed\", row=3)\n",
    "fig.update_xaxes(title=\"time / d\", row=3)\n",
    "fig.add_trace(\n",
    "    go.Scatter(y=res_10Stg.cavern_volume, x=res_10Stg.time, name=\"Total cavern volume\"),\n",
    "    row=1,\n",
    "    col=1,\n",
    ")\n",
    "fig.add_trace(\n",
    "    go.Scatter(\n",
    "        y=res_10Stg.cavern_average_brine_sg,\n",
    "        x=res_10Stg.time,\n",
    "        name=\"Ave. cav. brine density\",\n",
    "    ),\n",
    "    row=2,\n",
    "    col=1,\n",
    ")\n",
    "fig.add_trace(\n",
    "    go.Scatter(y=res_10Stg.interface_depth, x=res_10Stg.time, name=\"OBI depth\"),\n",
    "    row=3,\n",
    "    col=1,\n",
    ")"
   ]
  },
  {
   "cell_type": "markdown",
   "metadata": {},
   "source": [
    "### Comparing the ten-stage simulation to the all-at-once simulation\n",
    "You may have noticed that all of the different simulations have resulted in a 1.5 million barrel withdrawal from the cavern. Now we can compare the results of splitting the injection into ten cargos compared to the results if all 1.5 million barrels of raw water were injected all at once. First, we can look at the final results in a table."
   ]
  },
  {
   "cell_type": "code",
   "execution_count": null,
   "metadata": {},
   "outputs": [],
   "source": [
    "pd.DataFrame.from_dict(\n",
    "    {\n",
    "        \"single-inject\": res_new.df_t_1D.iloc[-1, :],\n",
    "        \"ten-cargos\": res_10Stg.df_t_1D.iloc[-1, :],\n",
    "        \"diff\": res_new.df_t_1D.iloc[-1, :] - res_10Stg.df_t_1D.iloc[-1, :],\n",
    "    }\n",
    ")"
   ]
  },
  {
   "cell_type": "code",
   "execution_count": null,
   "metadata": {},
   "outputs": [],
   "source": [
    "test1_plot_opts = {\n",
    "    \"mode\": \"lines\",\n",
    "    \"name\": \"single stage\",\n",
    "    \"line\": {\"color\": \"blue\"},\n",
    "    \"legendgroup\": 1,\n",
    "    \"marker\": {\"symbol\": \"circle\"},\n",
    "}\n",
    "test2_plot_opts = {\n",
    "    \"mode\": \"lines\",\n",
    "    \"name\": \"ten stages\",\n",
    "    \"line\": {\"color\": \"red\"},\n",
    "    \"legendgroup\": 2,\n",
    "    \"marker\": {\"symbol\": \"cross\"},\n",
    "}\n",
    "# Create subplots and add axis labels\n",
    "fig = plotly.subplots.make_subplots(rows=3, cols=1, shared_xaxes=True, vertical_spacing=0.05)\n",
    "fig.update_layout(\n",
    "    title={\"text\": \"A single long injection vs. ten injection/rest cycles\"},\n",
    "    height=800,\n",
    "    # legend={\"orientation\": \"h\"},\n",
    ")\n",
    "fig.update_yaxes(title={\"text\": \"cavern volume / bbl\"}, exponentformat=\"power\", row=1)\n",
    "fig.update_yaxes(title={\"text\": \"average density / sg\"}, row=2)\n",
    "fig.update_yaxes(title={\"text\": \"OBI depth / ft MD\"}, autorange=\"reversed\", row=3)\n",
    "fig.update_xaxes(title={\"text\": \"time / d\"}, row=3)\n",
    "\n",
    "# Add the traces\n",
    "fig.add_trace(\n",
    "    go.Scatter(x=res_orig.time, y=res_orig.df_t_1D.V_cav, **test1_plot_opts),\n",
    "    row=1,\n",
    "    col=1,\n",
    ")\n",
    "fig.add_trace(\n",
    "    go.Scatter(x=res_10Stg.time, y=res_10Stg.df_t_1D.V_cav, **test2_plot_opts),\n",
    "    row=1,\n",
    "    col=1,\n",
    ")\n",
    "fig.add_trace(\n",
    "    go.Scatter(x=res_orig.time, y=res_orig.df_t_1D.sg_ave, showlegend=False, **test1_plot_opts),\n",
    "    row=2,\n",
    "    col=1,\n",
    ")\n",
    "fig.add_trace(\n",
    "    go.Scatter(x=res_10Stg.time, y=res_10Stg.df_t_1D.sg_ave, showlegend=False, **test2_plot_opts),\n",
    "    row=2,\n",
    "    col=1,\n",
    ")\n",
    "fig.add_trace(\n",
    "    go.Scatter(y=res_orig.interface_depth, x=res_orig.time, showlegend=False, **test1_plot_opts),\n",
    "    row=3,\n",
    "    col=1,\n",
    ")\n",
    "fig.add_trace(\n",
    "    go.Scatter(y=res_10Stg.interface_depth, x=res_10Stg.time, showlegend=False, **test2_plot_opts),\n",
    "    row=3,\n",
    "    col=1,\n",
    ")"
   ]
  },
  {
   "cell_type": "markdown",
   "metadata": {},
   "source": [
    "Finally, let's take a look at the final cavern shape. We can do this by plotting the depths against the radius for the last time period. There are three plots with different depth ranges or aspect ratios; from left to right they show the full cavern, only the depths where leaching occured, and finally the leached area with an exaggerated x-scale to highlight the changes."
   ]
  },
  {
   "cell_type": "code",
   "execution_count": null,
   "metadata": {},
   "outputs": [],
   "source": [
    "test1_plot_opts = {\n",
    "    \"mode\": \"lines\",\n",
    "    \"name\": \"single stage\",\n",
    "    \"line\": {\"color\": \"blue\"},\n",
    "    \"legendgroup\": 1,\n",
    "    \"marker\": {\"symbol\": \"circle\"},\n",
    "}\n",
    "test2_plot_opts = {\n",
    "    \"mode\": \"lines\",\n",
    "    \"name\": \"ten stages\",\n",
    "    \"line\": {\"color\": \"red\"},\n",
    "    \"legendgroup\": 2,\n",
    "    \"marker\": {\"symbol\": \"cross\"},\n",
    "}\n",
    "fig = plotly.subplots.make_subplots(\n",
    "    rows=1,\n",
    "    cols=3,\n",
    "    horizontal_spacing=0.1,\n",
    "    subplot_titles=(\n",
    "        \"AR = 1:1\",\n",
    "        \"AR = 1:1\",\n",
    "        \"AR = 10:1\",\n",
    "    ),\n",
    ")\n",
    "fig.update_layout(title=\"Axisymmetric cavern profile\")\n",
    "fig.add_trace(go.Scatter(x=res_orig.radius.iloc[:, -1], y=res_orig.depths, **test1_plot_opts))\n",
    "fig.add_trace(go.Scatter(x=res_10Stg.radius.iloc[:, -1], y=res_10Stg.depths, **test2_plot_opts))\n",
    "fig.add_trace(\n",
    "    go.Scatter(\n",
    "        x=res_orig.radius.iloc[:, -1], y=res_orig.depths, showlegend=False, **test1_plot_opts\n",
    "    ),\n",
    "    col=2,\n",
    "    row=1,\n",
    ")\n",
    "fig.add_trace(\n",
    "    go.Scatter(\n",
    "        x=res_10Stg.radius.iloc[:, -1], y=res_10Stg.depths, showlegend=False, **test2_plot_opts\n",
    "    ),\n",
    "    col=2,\n",
    "    row=1,\n",
    ")\n",
    "fig.add_trace(\n",
    "    go.Scatter(\n",
    "        x=res_orig.radius.iloc[:, -1], y=res_orig.depths, showlegend=False, **test1_plot_opts\n",
    "    ),\n",
    "    col=3,\n",
    "    row=1,\n",
    ")\n",
    "fig.add_trace(\n",
    "    go.Scatter(\n",
    "        x=res_10Stg.radius.iloc[:, -1], y=res_10Stg.depths, showlegend=False, **test2_plot_opts\n",
    "    ),\n",
    "    col=3,\n",
    "    row=1,\n",
    ")\n",
    "fig.update_yaxes(title=\"depth / ft MD\", row=1, col=1)\n",
    "fig.update_xaxes(title=\"radius / ft\")\n",
    "fig.update_xaxes(row=1, col=3, range=[95, 115])\n",
    "fig.update_yaxes(scaleanchor=\"x\", scaleratio=1, row=1, col=1, range=[4000, 2000])\n",
    "fig.update_yaxes(scaleanchor=\"x2\", scaleratio=1, row=1, col=2, range=[3990, 3650])\n",
    "fig.update_yaxes(scaleanchor=\"x3\", scaleratio=0.1, row=1, col=3, range=[3990, 3650])"
   ]
  }
 ],
 "metadata": {
  "kernelspec": {
   "display_name": "Python 3",
   "language": "python",
   "name": "python3"
  },
  "language_info": {
   "codemirror_mode": {
    "name": "ipython",
    "version": 3
   },
   "file_extension": ".py",
   "mimetype": "text/x-python",
   "name": "python",
   "nbconvert_exporter": "python",
   "pygments_lexer": "ipython3",
   "version": "3.12.1"
  }
 },
 "nbformat": 4,
 "nbformat_minor": 4
}
